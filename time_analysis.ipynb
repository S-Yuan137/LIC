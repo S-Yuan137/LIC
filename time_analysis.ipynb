{
 "cells": [
  {
   "cell_type": "code",
   "execution_count": 9,
   "metadata": {},
   "outputs": [
    {
     "data": {
      "image/png": "[encoded data removed]",
      "text/plain": [
       "<Figure size 432x288 with 1 Axes>"
      ]
     },
     "metadata": {
      "needs_background": "light"
     },
     "output_type": "display_data"
    }
   ],
   "source": [
    "import numpy as np \n",
    "import matplotlib.pyplot as plt\n",
    "\n",
    "# i = np.arange(5, 20, 5)\n",
    "# size_len = i**3\n",
    "\n",
    "i       = np.array([5, 6, 7, 8, 10, 15, 210000**(1/3), 20])\n",
    "time_np = np.array([1.03, 2.07, 3.76, 5.98, 12.50, 52.03, 64*60, 133.29]) # just in numpy array and on cpu, no parallel\n",
    "volexs  = i**3\n",
    "time_taichi = np.array([])\n",
    "\n",
    "\n",
    "fig = plt.figure()\n",
    "ax = fig.gca()\n",
    "ax.plot(volexs, time_np, 'ro')\n",
    "plt.show()"
   ]
  },
  {
   "cell_type": "code",
   "execution_count": 12,
   "metadata": {},
   "outputs": [],
   "source": [
    "from numba import jit, prange\n",
    "@jit(nopython=True, fastmath=True, nogil=True,  parallel=True)\n",
    "def bilinear_interpolation(f_in, resampleFactor):\n",
    "    x_in = np.linspace(0, f_in.shape[0]-1, f_in.shape[0])\n",
    "    y_in = np.linspace(0, f_in.shape[1]-1, f_in.shape[1])\n",
    "    x_out = np.linspace(0, f_in.shape[0]-1, f_in.shape[0]*resampleFactor)\n",
    "    y_out = np.linspace(0, f_in.shape[1]-1, f_in.shape[1]*resampleFactor)\n",
    "    f_out = np.zeros((y_out.size, x_out.size))\n",
    "    \n",
    "    for i in prange(f_out.shape[1]):\n",
    "        idx = np.searchsorted(x_in[2:-2], x_out[i])\n",
    "        \n",
    "        x1 = x_in[idx-1]\n",
    "        x2 = x_in[idx]\n",
    "        x = x_out[i]\n",
    "        \n",
    "        for j in prange(f_out.shape[0]):\n",
    "            idy = np.searchsorted(y_in[2:-2], y_out[j])\n",
    "            y1 = y_in[idy-1]\n",
    "            y2 = y_in[idy]\n",
    "            y = y_out[j]\n",
    "\n",
    "            \n",
    "            f11 = f_in[idy-1, idx-1]\n",
    "            f21 = f_in[idy-1, idx]\n",
    "            f12 = f_in[idy, idx-1]\n",
    "            f22 = f_in[idy, idx]\n",
    "            \n",
    "\n",
    "            \n",
    "            f_out[j, i] = ((f11 * (x2 - x) * (y2 - y) +\n",
    "                            f21 * (x - x1) * (y2 - y) +\n",
    "                            f12 * (x2 - x) * (y - y1) +\n",
    "                            f22 * (x - x1) * (y - y1)) /\n",
    "                           ((x2 - x1) * (y2 - y1)))\n",
    "    \n",
    "    return f_out"
   ]
  },
  {
   "cell_type": "code",
   "execution_count": 14,
   "metadata": {},
   "outputs": [
    {
     "name": "stdout",
     "output_type": "stream",
     "text": [
      "[[ 0. 11.]\n",
      " [22. 33.]\n",
      " [44. 55.]\n",
      " [66. 77.]\n",
      " [88. 99.]]\n",
      "[[ -0.           0.78571429   1.57142857   2.35714286   3.14285714\n",
      "    3.92857143   4.71428571   5.5         25.14285714  28.28571429\n",
      "   31.42857143  34.57142857  37.71428571  40.85714286  44.        ]\n",
      " [ 17.6         18.38571429  19.17142857  19.95714286  20.74285714\n",
      "   21.52857143  22.31428571  23.1         42.74285714  45.88571429\n",
      "   49.02857143  52.17142857  55.31428571  58.45714286  61.6       ]\n",
      " [ 35.2         35.98571429  36.77142857  37.55714286  38.34285714\n",
      "   39.12857143  39.91428571  40.7         60.34285714  63.48571429\n",
      "   66.62857143  69.77142857  72.91428571  76.05714286  79.2       ]\n",
      " [ 52.8         53.58571429  54.37142857  55.15714286  55.94285714\n",
      "   56.72857143  57.51428571  58.3         77.94285714  81.08571429\n",
      "   84.22857143  87.37142857  90.51428571  93.65714286  96.8       ]\n",
      " [ 70.4         71.18571429  71.97142857  72.75714286  73.54285714\n",
      "   74.32857143  75.11428571  75.9         95.54285714  98.68571429\n",
      "  101.82857143 104.97142857 108.11428571 111.25714286 114.4       ]\n",
      " [ 88.          88.78571429  89.57142857  90.35714286  91.14285714\n",
      "   91.92857143  92.71428571  93.5        113.14285714 116.28571429\n",
      "  119.42857143 122.57142857 125.71428571 128.85714286 132.        ]]\n"
     ]
    }
   ],
   "source": [
    "import numpy as np\n",
    "\n",
    "test_array = np.linspace(0, 99, 10).reshape(5, 2)\n",
    "print(test_array)\n",
    "test_out = bilinear_interpolation(test_array, 3)\n",
    "print(test_out)\n",
    "    "
   ]
  },
  {
   "cell_type": "code",
   "execution_count": 15,
   "metadata": {},
   "outputs": [
    {
     "data": {
      "text/plain": [
       "(6, 15)"
      ]
     },
     "execution_count": 15,
     "metadata": {},
     "output_type": "execute_result"
    }
   ],
   "source": [
    "test_out.shape"
   ]
  },
  {
   "cell_type": "code",
   "execution_count": 16,
   "metadata": {},
   "outputs": [
    {
     "data": {
      "text/plain": [
       "(5, 2)"
      ]
     },
     "execution_count": 16,
     "metadata": {},
     "output_type": "execute_result"
    }
   ],
   "source": [
    "test_array.shape\n",
    "    \n",
    "\n",
    "\n"
   ]
  },
  {
   "cell_type": "code",
   "execution_count": null,
   "metadata": {},
   "outputs": [],
   "source": []
  }
 ],
 "metadata": {
  "interpreter": {
   "hash": "cf98052d8b812262878abf8fc201667b868fbe782462a1888ad2e7bbb9fb1a65"
  },
  "kernelspec": {
   "display_name": "Python 3.8.7 64-bit",
   "language": "python",
   "name": "python3"
  },
  "language_info": {
   "codemirror_mode": {
    "name": "ipython",
    "version": 3
   },
   "file_extension": ".py",
   "mimetype": "text/x-python",
   "name": "python",
   "nbconvert_exporter": "python",
   "pygments_lexer": "ipython3",
   "version": "3.8.7"
  },
  "orig_nbformat": 4
 },
 "nbformat": 4,
 "nbformat_minor": 2
}
