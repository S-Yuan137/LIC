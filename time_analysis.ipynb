{
 "cells": [
  {
   "cell_type": "code",
   "execution_count": 9,
   "metadata": {},
   "outputs": [
    {
     "data": {
      "image/png": "[encoded data removed]",
      "text/plain": [
       "<Figure size 432x288 with 1 Axes>"
      ]
     },
     "metadata": {
      "needs_background": "light"
     },
     "output_type": "display_data"
    }
   ],
   "source": [
    "import numpy as np \n",
    "import matplotlib.pyplot as plt\n",
    "\n",
    "# i = np.arange(5, 20, 5)\n",
    "# size_len = i**3\n",
    "\n",
    "i       = np.array([5, 6, 7, 8, 10, 15, 210000**(1/3), 20])\n",
    "time_np = np.array([1.03, 2.07, 3.76, 5.98, 12.50, 52.03, 64*60, 133.29]) # just in numpy array and on cpu, no parallel\n",
    "volexs  = i**3\n",
    "time_taichi = np.array([])\n",
    "\n",
    "\n",
    "fig = plt.figure()\n",
    "ax = fig.gca()\n",
    "ax.plot(volexs, time_np, 'ro')\n",
    "plt.show()"
   ]
  },
  {
   "cell_type": "code",
   "execution_count": 12,
   "metadata": {},
   "outputs": [],
   "source": [
    "from numba import jit, prange\n",
    "@jit(nopython=True, fastmath=True, nogil=True,  parallel=True)\n",
    "def bilinear_interpolation(f_in, resampleFactor):\n",
    "    x_in = np.linspace(0, f_in.shape[0]-1, f_in.shape[0])\n",
    "    y_in = np.linspace(0, f_in.shape[1]-1, f_in.shape[1])\n",
    "    x_out = np.linspace(0, f_in.shape[0]-1, f_in.shape[0]*resampleFactor)\n",
    "    y_out = np.linspace(0, f_in.shape[1]-1, f_in.shape[1]*resampleFactor)\n",
    "    f_out = np.zeros((y_out.size, x_out.size))\n",
    "    \n",
    "    for i in prange(f_out.shape[1]):\n",
    "        idx = np.searchsorted(x_in[2:-2], x_out[i])\n",
    "        \n",
    "        x1 = x_in[idx-1]\n",
    "        x2 = x_in[idx]\n",
    "        x = x_out[i]\n",
    "        \n",
    "        for j in prange(f_out.shape[0]):\n",
    "            idy = np.searchsorted(y_in[2:-2], y_out[j])\n",
    "            y1 = y_in[idy-1]\n",
    "            y2 = y_in[idy]\n",
    "            y = y_out[j]\n",
    "\n",
    "            \n",
    "            f11 = f_in[idy-1, idx-1]\n",
    "            f21 = f_in[idy-1, idx]\n",
    "            f12 = f_in[idy, idx-1]\n",
    "            f22 = f_in[idy, idx]\n",
    "            \n",
    "\n",
    "            \n",
    "            f_out[j, i] = ((f11 * (x2 - x) * (y2 - y) +\n",
    "                            f21 * (x - x1) * (y2 - y) +\n",
    "                            f12 * (x2 - x) * (y - y1) +\n",
    "                            f22 * (x - x1) * (y - y1)) /\n",
    "                           ((x2 - x1) * (y2 - y1)))\n",
    "    \n",
    "    return f_out"
   ]
  },
  {
   "cell_type": "code",
   "execution_count": 18,
   "metadata": {},
   "outputs": [
    {
     "name": "stdout",
     "output_type": "stream",
     "text": [
      "[[ 0.          5.21052632 10.42105263 15.63157895]\n",
      " [20.84210526 26.05263158 31.26315789 36.47368421]\n",
      " [41.68421053 46.89473684 52.10526316 57.31578947]\n",
      " [62.52631579 67.73684211 72.94736842 78.15789474]\n",
      " [83.36842105 88.57894737 93.78947368 99.        ]]\n",
      "[[ -0.           7.57894737  15.15789474  22.73684211  30.31578947\n",
      "   37.89473684  45.47368421  53.05263158  60.63157895  68.21052632\n",
      "   75.78947368  83.36842105]\n",
      " [  1.11654135   8.69548872  16.27443609  23.85338346  31.43233083\n",
      "   39.0112782   46.59022556  54.16917293  61.7481203   69.32706767\n",
      "   76.90601504  84.48496241]\n",
      " [  2.23308271   9.81203008  17.39097744  24.96992481  32.54887218\n",
      "   40.12781955  47.70676692  55.28571429  62.86466165  70.44360902\n",
      "   78.02255639  85.60150376]\n",
      " [  3.34962406  10.92857143  18.5075188   26.08646617  33.66541353\n",
      "   41.2443609   48.82330827  56.40225564  63.98120301  71.56015038\n",
      "   79.13909774  86.71804511]\n",
      " [  4.46616541  12.04511278  19.62406015  27.20300752  34.78195489\n",
      "   42.36090226  49.93984962  57.51879699  65.09774436  72.67669173\n",
      "   80.2556391   87.83458647]\n",
      " [  5.58270677  13.16165414  20.7406015   28.31954887  35.89849624\n",
      "   43.47744361  51.05639098  58.63533835  66.21428571  73.79323308\n",
      "   81.37218045  88.95112782]\n",
      " [  6.69924812  14.27819549  21.85714286  29.43609023  37.01503759\n",
      "   44.59398496  52.17293233  59.7518797   67.33082707  74.90977444\n",
      "   82.4887218   90.06766917]\n",
      " [  7.81578947  15.39473684  22.97368421  30.55263158  38.13157895\n",
      "   45.71052632  53.28947368  60.86842105  68.44736842  76.02631579\n",
      "   83.60526316  91.18421053]\n",
      " [ 11.90977444  19.4887218   27.06766917  34.64661654  42.22556391\n",
      "   49.80451128  57.38345865  64.96240602  72.54135338  80.12030075\n",
      "   87.69924812  95.27819549]\n",
      " [ 13.39849624  20.97744361  28.55639098  36.13533835  43.71428571\n",
      "   51.29323308  58.87218045  66.45112782  74.03007519  81.60902256\n",
      "   89.18796992  96.76691729]\n",
      " [ 14.88721805  22.46616541  30.04511278  37.62406015  45.20300752\n",
      "   52.78195489  60.36090226  67.93984962  75.51879699  83.09774436\n",
      "   90.67669173  98.2556391 ]\n",
      " [ 16.37593985  23.95488722  31.53383459  39.11278195  46.69172932\n",
      "   54.27067669  61.84962406  69.42857143  77.0075188   84.58646617\n",
      "   92.16541353  99.7443609 ]\n",
      " [ 17.86466165  25.44360902  33.02255639  40.60150376  48.18045113\n",
      "   55.7593985   63.33834586  70.91729323  78.4962406   86.07518797\n",
      "   93.65413534 101.23308271]\n",
      " [ 19.35338346  26.93233083  34.5112782   42.09022556  49.66917293\n",
      "   57.2481203   64.82706767  72.40601504  79.98496241  87.56390977\n",
      "   95.14285714 102.72180451]\n",
      " [ 20.84210526  28.42105263  36.          43.57894737  51.15789474\n",
      "   58.73684211  66.31578947  73.89473684  81.47368421  89.05263158\n",
      "   96.63157895 104.21052632]]\n"
     ]
    }
   ],
   "source": [
    "import numpy as np\n",
    "\n",
    "test_array = np.linspace(0, 99, 20).reshape(5, 4)\n",
    "print(test_array)\n",
    "test_out = bilinear_interpolation(test_array, 3)\n",
    "print(test_out.T)\n",
    "    "
   ]
  },
  {
   "cell_type": "code",
   "execution_count": 15,
   "metadata": {},
   "outputs": [
    {
     "data": {
      "text/plain": [
       "(6, 15)"
      ]
     },
     "execution_count": 15,
     "metadata": {},
     "output_type": "execute_result"
    }
   ],
   "source": [
    "test_out.shape"
   ]
  },
  {
   "cell_type": "code",
   "execution_count": 16,
   "metadata": {},
   "outputs": [
    {
     "data": {
      "text/plain": [
       "(5, 2)"
      ]
     },
     "execution_count": 16,
     "metadata": {},
     "output_type": "execute_result"
    }
   ],
   "source": [
    "test_array.shape\n",
    "    \n",
    "\n",
    "\n"
   ]
  },
  {
   "cell_type": "code",
   "execution_count": null,
   "metadata": {},
   "outputs": [],
   "source": []
  }
 ],
 "metadata": {
  "interpreter": {
   "hash": "cf98052d8b812262878abf8fc201667b868fbe782462a1888ad2e7bbb9fb1a65"
  },
  "kernelspec": {
   "display_name": "Python 3.8.7 64-bit",
   "language": "python",
   "name": "python3"
  },
  "language_info": {
   "codemirror_mode": {
    "name": "ipython",
    "version": 3
   },
   "file_extension": ".py",
   "mimetype": "text/x-python",
   "name": "python",
   "nbconvert_exporter": "python",
   "pygments_lexer": "ipython3",
   "version": "3.8.7"
  },
  "orig_nbformat": 4
 },
 "nbformat": 4,
 "nbformat_minor": 2
}
