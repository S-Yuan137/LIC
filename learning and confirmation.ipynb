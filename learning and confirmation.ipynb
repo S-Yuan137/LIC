{
 "cells": [
  {
   "cell_type": "markdown",
   "metadata": {},
   "source": [
    "# comfirm interpolation\n",
    "### 3D scalar in taichi"
   ]
  },
  {
   "cell_type": "code",
   "execution_count": 10,
   "metadata": {},
   "outputs": [
    {
     "name": "stdout",
     "output_type": "stream",
     "text": [
      "[Taichi] Starting on arch=x64\n"
     ]
    },
    {
     "data": {
      "text/plain": [
       "0.41029143957122105"
      ]
     },
     "execution_count": 10,
     "metadata": {},
     "output_type": "execute_result"
    }
   ],
   "source": [
    "import numpy as np\n",
    "import taichi as ti\n",
    "import taichi_glsl as ts\n",
    "ti.init(arch = ti.cpu)\n",
    "\n",
    "shape = (5, 5, 6)\n",
    "field =  ti.field(ti.f64, shape = shape)\n",
    "np.random.seed(3)\n",
    "self = np.random.rand(shape[0], shape[1], shape[2])\n",
    "field.from_numpy(self)\n",
    "P = ti.Vector([1,1.5,2.005])\n",
    "\n",
    "\n",
    "\n",
    "@ti.func\n",
    "def trilerp(field: ti.template(), P):\n",
    "    '''\n",
    "    Tilinear sampling an 3D field with a real index.\n",
    "    :parameter field: (3D Tensor)\n",
    "        Specify the field to sample.\n",
    "    :parameter P: (3D Vector of float)\n",
    "        Specify the index in field.\n",
    "    :note:\n",
    "        If one of the element to be accessed is out of `field.shape`, then\n",
    "        `Tilerp` will automatically do a clamp for you, see :func:`sample`.\n",
    "        Syntax ref : https://en.wikipedia.org/wiki/Trilinear_interpolation.\n",
    "    :return:\n",
    "        The return value is calcuated as::\n",
    "            I = int(P)\n",
    "            w0 = ts.fract(P)\n",
    "            w1 = 1.0 - w0\n",
    "            c00 = ts.sample(field, I + ts.D.yyy) * w1.x + ts.sample(field, I + ts.D.xyy) * w0.x\n",
    "            c01 = ts.sample(field, I + ts.D.yyx) * w1.x + ts.sample(field, I + ts.D.xyx) * w0.x\n",
    "            c10 = ts.sample(field, I + ts.D.yxy) * w1.x + ts.sample(field, I + ts.D.xxy) * w0.x\n",
    "            c11 = ts.sample(field, I + ts.D.yxx) * w1.x + ts.sample(field, I + ts.D.xxx) * w0.x\n",
    "            c0 = c00 * w1.y + c10 * w0.y\n",
    "            c1 = c01 * w1.y + c11 * w0.y\n",
    "            return c0 * w1.z + c1 * w0.z\n",
    "        .. where D = vec(1, 0, -1)\n",
    "    '''\n",
    "    I = int(P)\n",
    "    w0 = ts.fract(P)\n",
    "    w1 = 1.0 - w0\n",
    "\n",
    "    c00 = ts.sample(field, I + ts.D.yyy) * w1.x + ts.sample(\n",
    "        field, I + ts.D.xyy) * w0.x\n",
    "    c01 = ts.sample(field, I + ts.D.yyx) * w1.x + ts.sample(\n",
    "        field, I + ts.D.xyx) * w0.x\n",
    "    c10 = ts.sample(field, I + ts.D.yxy) * w1.x + ts.sample(\n",
    "        field, I + ts.D.xxy) * w0.x\n",
    "    c11 = ts.sample(field, I + ts.D.yxx) * w1.x + ts.sample(\n",
    "        field, I + ts.D.xxx) * w0.x\n",
    "\n",
    "    c0 = c00 * w1.y + c10 * w0.y\n",
    "    c1 = c01 * w1.y + c11 * w0.y\n",
    "\n",
    "    return c0 * w1.z + c1 * w0.z\n",
    "\n",
    "\n",
    "@ti.kernel\n",
    "def main() -> ti.f64:\n",
    "    # x =  ts.sampling.sample(field, P)\n",
    "    x = trilerp(field, P)\n",
    "\n",
    "    return x\n",
    "# val = main()\n",
    "# print(val)\n",
    "main()"
   ]
  },
  {
   "cell_type": "markdown",
   "metadata": {},
   "source": [
    "### in numpy"
   ]
  },
  {
   "cell_type": "code",
   "execution_count": 50,
   "metadata": {},
   "outputs": [
    {
     "name": "stdout",
     "output_type": "stream",
     "text": [
      "0.40962558119277803\n"
     ]
    }
   ],
   "source": [
    "import numpy as np\n",
    "from scipy.interpolate import interpn\n",
    "\n",
    "def field_point(self, coord): # It is normalized. To get original field: u.field_point()*u.magitude_point()\n",
    "    points = (np.linspace(0,self.shape[0]-1,self.shape[0]), \n",
    "              np.linspace(0,self.shape[1]-1,self.shape[1]),\n",
    "              np.linspace(0,self.shape[2]-1,self.shape[2])\n",
    "            )\n",
    "    fx = interpn(points, self, coord)[0]\n",
    "    # fy = interpn(points, self.field_y, coord)[0]\n",
    "    # fz = interpn(points, self.field_z, coord)[0]\n",
    "    # return np.array([fx, fy, fz])\n",
    "    return fx\n",
    "\n",
    "shape = (5, 5, 6)\n",
    "np.random.seed(3)\n",
    "self = np.random.rand(shape[0], shape[1], shape[2])\n",
    "print(field_point(self, (1, 1.5,2)))\n",
    "# print(self[1,1,1])"
   ]
  },
  {
   "cell_type": "markdown",
   "metadata": {},
   "source": [
    "## 3D vector comfirmation"
   ]
  },
  {
   "cell_type": "markdown",
   "metadata": {},
   "source": [
    "Since taichi doesn't support to return a list or tuple, I can't return a struct data. The main idea should be ***update*** an initialized output textures. "
   ]
  },
  {
   "cell_type": "code",
   "execution_count": 3,
   "metadata": {},
   "outputs": [
    {
     "name": "stdout",
     "output_type": "stream",
     "text": [
      "[Taichi] Starting on arch=x64\n",
      "(5, 5, 6, 3)\n",
      "0.40962558119277803\n"
     ]
    }
   ],
   "source": [
    "import taichi as ti\n",
    "import taichi_glsl as ts\n",
    "import numpy as np\n",
    "ti.init(arch = ti.cpu)\n",
    "\n",
    "shape = (5, 5, 6)\n",
    "field =  ti.Vector.field(n = 3, dtype = ti.f64, shape = shape)\n",
    "np.random.seed(3)\n",
    "self = np.random.rand(shape[0], shape[1], shape[2])\n",
    "temp = np.stack((self, self, self), axis = -1)\n",
    "print(temp.shape)\n",
    "field.from_numpy(temp)\n",
    "P = ti.Vector([1,1.5,2])\n",
    "\n",
    "\n",
    "\n",
    "@ti.func\n",
    "def trilerp(field: ti.template(), P):\n",
    "    I = int(P)\n",
    "    w0 = ts.fract(P)\n",
    "    w1 = 1.0 - w0\n",
    "\n",
    "    c00 = ts.sample(field, I + ts.D.yyy) * w1.x + ts.sample(\n",
    "        field, I + ts.D.xyy) * w0.x\n",
    "    c01 = ts.sample(field, I + ts.D.yyx) * w1.x + ts.sample(\n",
    "        field, I + ts.D.xyx) * w0.x\n",
    "    c10 = ts.sample(field, I + ts.D.yxy) * w1.x + ts.sample(\n",
    "        field, I + ts.D.xxy) * w0.x\n",
    "    c11 = ts.sample(field, I + ts.D.yxx) * w1.x + ts.sample(\n",
    "        field, I + ts.D.xxx) * w0.x\n",
    "\n",
    "    c0 = c00 * w1.y + c10 * w0.y\n",
    "    c1 = c01 * w1.y + c11 * w0.y\n",
    "\n",
    "    return c0 * w1.z + c1 * w0.z\n",
    "\n",
    "\n",
    "@ti.kernel\n",
    "def main() -> ti.f64:\n",
    "    # x =  ts.sampling.sample(field, P)\n",
    "    x = trilerp(field, P)\n",
    "    # return x # is not supported in taichi currently\n",
    "    return x[1]\n",
    "val = main()\n",
    "print(val)\n",
    "# main()"
   ]
  },
  {
   "cell_type": "code",
   "execution_count": null,
   "metadata": {},
   "outputs": [],
   "source": [
    "# from extrnal array\n",
    "\n",
    "import taichi as ti\n",
    "import numpy as np\n",
    "\n",
    "ti.init()\n",
    "\n",
    "n = 4\n",
    "m = 7\n",
    "\n",
    "val = ti.field(ti.i32, shape=(n, m))\n",
    "\n",
    "@ti.kernel\n",
    "def test_numpy(arr: ti.ext_arr()):\n",
    "  for i in range(n):\n",
    "    for j in range(m):\n",
    "      arr[i, j] += i + j\n",
    "\n",
    "a = np.empty(shape=(n, m), dtype=np.int32)\n",
    "\n",
    "for i in range(n):\n",
    "  for j in range(m):\n",
    "    a[i, j] = i * j\n",
    "\n",
    "test_numpy(a)\n",
    "\n",
    "for i in range(n):\n",
    "  for j in range(m):\n",
    "    assert a[i, j] == i * j + i + j"
   ]
  },
  {
   "cell_type": "code",
   "execution_count": 6,
   "metadata": {},
   "outputs": [
    {
     "name": "stdout",
     "output_type": "stream",
     "text": [
      "[Taichi] Starting on arch=cuda\n"
     ]
    },
    {
     "ename": "TypeError",
     "evalue": "'list' object cannot be interpreted as an integer",
     "output_type": "error",
     "traceback": [
      "\u001b[1;31m---------------------------------------------------------------------------\u001b[0m",
      "\u001b[1;31mTypeError\u001b[0m                                 Traceback (most recent call last)",
      "\u001b[1;32m~\\AppData\\Local\\Temp/ipykernel_12004/4166245905.py\u001b[0m in \u001b[0;36m<module>\u001b[1;34m\u001b[0m\n\u001b[0;32m     10\u001b[0m     \u001b[1;32mreturn\u001b[0m \u001b[0mti\u001b[0m\u001b[1;33m.\u001b[0m\u001b[0msqrt\u001b[0m\u001b[1;33m(\u001b[0m\u001b[0md\u001b[0m\u001b[1;33m)\u001b[0m\u001b[1;33m\u001b[0m\u001b[1;33m\u001b[0m\u001b[0m\n\u001b[0;32m     11\u001b[0m \u001b[1;33m\u001b[0m\u001b[0m\n\u001b[1;32m---> 12\u001b[1;33m \u001b[0mp1\u001b[0m \u001b[1;33m=\u001b[0m \u001b[0mti\u001b[0m\u001b[1;33m.\u001b[0m\u001b[0mVector\u001b[0m\u001b[1;33m.\u001b[0m\u001b[0mfield\u001b[0m\u001b[1;33m(\u001b[0m\u001b[1;33m[\u001b[0m\u001b[1;36m1\u001b[0m\u001b[1;33m,\u001b[0m\u001b[1;36m2\u001b[0m\u001b[1;33m,\u001b[0m\u001b[1;36m4\u001b[0m\u001b[1;33m]\u001b[0m\u001b[1;33m,\u001b[0m \u001b[0mdtype\u001b[0m \u001b[1;33m=\u001b[0m \u001b[0mti\u001b[0m\u001b[1;33m.\u001b[0m\u001b[0mf32\u001b[0m\u001b[1;33m)\u001b[0m\u001b[1;33m\u001b[0m\u001b[1;33m\u001b[0m\u001b[0m\n\u001b[0m\u001b[0;32m     13\u001b[0m \u001b[0mp2\u001b[0m \u001b[1;33m=\u001b[0m \u001b[0mti\u001b[0m\u001b[1;33m.\u001b[0m\u001b[0mVector\u001b[0m\u001b[1;33m.\u001b[0m\u001b[0mfield\u001b[0m\u001b[1;33m(\u001b[0m\u001b[1;33m[\u001b[0m\u001b[1;36m5\u001b[0m\u001b[1;33m,\u001b[0m \u001b[1;36m6\u001b[0m \u001b[1;33m,\u001b[0m\u001b[1;36m1\u001b[0m\u001b[1;33m]\u001b[0m\u001b[1;33m,\u001b[0m \u001b[0mdtype\u001b[0m \u001b[1;33m=\u001b[0m \u001b[0mti\u001b[0m\u001b[1;33m.\u001b[0m\u001b[0mf32\u001b[0m\u001b[1;33m)\u001b[0m\u001b[1;33m\u001b[0m\u001b[1;33m\u001b[0m\u001b[0m\n\u001b[0;32m     14\u001b[0m \u001b[1;33m\u001b[0m\u001b[0m\n",
      "\u001b[1;32m~\\AppData\\Local\\Programs\\Python\\Python38\\lib\\site-packages\\taichi\\lang\\matrix.py\u001b[0m in \u001b[0;36m_Vector_field\u001b[1;34m(cls, n, dtype, *args, **kwargs)\u001b[0m\n\u001b[0;32m    996\u001b[0m         \u001b[1;34m\"\"\"ti.Vector.field\"\"\"\u001b[0m\u001b[1;33m\u001b[0m\u001b[1;33m\u001b[0m\u001b[0m\n\u001b[0;32m    997\u001b[0m         \u001b[0m_taichi_skip_traceback\u001b[0m \u001b[1;33m=\u001b[0m \u001b[1;36m1\u001b[0m\u001b[1;33m\u001b[0m\u001b[1;33m\u001b[0m\u001b[0m\n\u001b[1;32m--> 998\u001b[1;33m         \u001b[1;32mreturn\u001b[0m \u001b[0mcls\u001b[0m\u001b[1;33m.\u001b[0m\u001b[0mfield\u001b[0m\u001b[1;33m(\u001b[0m\u001b[0mn\u001b[0m\u001b[1;33m,\u001b[0m \u001b[1;36m1\u001b[0m\u001b[1;33m,\u001b[0m \u001b[0mdtype\u001b[0m\u001b[1;33m,\u001b[0m \u001b[1;33m*\u001b[0m\u001b[0margs\u001b[0m\u001b[1;33m,\u001b[0m \u001b[1;33m**\u001b[0m\u001b[0mkwargs\u001b[0m\u001b[1;33m)\u001b[0m\u001b[1;33m\u001b[0m\u001b[1;33m\u001b[0m\u001b[0m\n\u001b[0m\u001b[0;32m    999\u001b[0m \u001b[1;33m\u001b[0m\u001b[0m\n\u001b[0;32m   1000\u001b[0m     \u001b[1;33m@\u001b[0m\u001b[0mclassmethod\u001b[0m\u001b[1;33m\u001b[0m\u001b[1;33m\u001b[0m\u001b[0m\n",
      "\u001b[1;32m~\\AppData\\Local\\Programs\\Python\\Python38\\lib\\site-packages\\taichi\\lang\\util.py\u001b[0m in \u001b[0;36mwrapped\u001b[1;34m(*args, **kwargs)\u001b[0m\n\u001b[0;32m    226\u001b[0m         \u001b[1;32massert\u001b[0m \u001b[0min_python_scope\u001b[0m\u001b[1;33m(\u001b[0m\u001b[1;33m)\u001b[0m\u001b[1;33m,\u001b[0m\u001b[0;31m \u001b[0m\u001b[0;31m\\\u001b[0m\u001b[1;33m\u001b[0m\u001b[1;33m\u001b[0m\u001b[0m\n\u001b[0;32m    227\u001b[0m                 \u001b[1;34mf'{func.__name__} cannot be called in Taichi-scope'\u001b[0m\u001b[1;33m\u001b[0m\u001b[1;33m\u001b[0m\u001b[0m\n\u001b[1;32m--> 228\u001b[1;33m         \u001b[1;32mreturn\u001b[0m \u001b[0mfunc\u001b[0m\u001b[1;33m(\u001b[0m\u001b[1;33m*\u001b[0m\u001b[0margs\u001b[0m\u001b[1;33m,\u001b[0m \u001b[1;33m**\u001b[0m\u001b[0mkwargs\u001b[0m\u001b[1;33m)\u001b[0m\u001b[1;33m\u001b[0m\u001b[1;33m\u001b[0m\u001b[0m\n\u001b[0m\u001b[0;32m    229\u001b[0m \u001b[1;33m\u001b[0m\u001b[0m\n\u001b[0;32m    230\u001b[0m     \u001b[1;32mreturn\u001b[0m \u001b[0mwrapped\u001b[0m\u001b[1;33m\u001b[0m\u001b[1;33m\u001b[0m\u001b[0m\n",
      "\u001b[1;32m~\\AppData\\Local\\Programs\\Python\\Python38\\lib\\site-packages\\taichi\\lang\\matrix.py\u001b[0m in \u001b[0;36mfield\u001b[1;34m(cls, n, m, dtype, shape, name, offset, needs_grad, layout)\u001b[0m\n\u001b[0;32m    945\u001b[0m                             impl.create_field_member(dtype[i][j], name=name))\n\u001b[0;32m    946\u001b[0m         \u001b[1;32melse\u001b[0m\u001b[1;33m:\u001b[0m\u001b[1;33m\u001b[0m\u001b[1;33m\u001b[0m\u001b[0m\n\u001b[1;32m--> 947\u001b[1;33m             \u001b[1;32mfor\u001b[0m \u001b[0m_\u001b[0m \u001b[1;32min\u001b[0m \u001b[0mrange\u001b[0m\u001b[1;33m(\u001b[0m\u001b[0mn\u001b[0m \u001b[1;33m*\u001b[0m \u001b[0mm\u001b[0m\u001b[1;33m)\u001b[0m\u001b[1;33m:\u001b[0m\u001b[1;33m\u001b[0m\u001b[1;33m\u001b[0m\u001b[0m\n\u001b[0m\u001b[0;32m    948\u001b[0m                 \u001b[0mentries\u001b[0m\u001b[1;33m.\u001b[0m\u001b[0mappend\u001b[0m\u001b[1;33m(\u001b[0m\u001b[0mimpl\u001b[0m\u001b[1;33m.\u001b[0m\u001b[0mcreate_field_member\u001b[0m\u001b[1;33m(\u001b[0m\u001b[0mdtype\u001b[0m\u001b[1;33m,\u001b[0m \u001b[0mname\u001b[0m\u001b[1;33m=\u001b[0m\u001b[0mname\u001b[0m\u001b[1;33m)\u001b[0m\u001b[1;33m)\u001b[0m\u001b[1;33m\u001b[0m\u001b[1;33m\u001b[0m\u001b[0m\n\u001b[0;32m    949\u001b[0m         \u001b[0mentries\u001b[0m\u001b[1;33m,\u001b[0m \u001b[0mentries_grad\u001b[0m \u001b[1;33m=\u001b[0m \u001b[0mzip\u001b[0m\u001b[1;33m(\u001b[0m\u001b[1;33m*\u001b[0m\u001b[0mentries\u001b[0m\u001b[1;33m)\u001b[0m\u001b[1;33m\u001b[0m\u001b[1;33m\u001b[0m\u001b[0m\n",
      "\u001b[1;31mTypeError\u001b[0m: 'list' object cannot be interpreted as an integer"
     ]
    }
   ],
   "source": [
    "\n"
   ]
  },
  {
   "cell_type": "code",
   "execution_count": null,
   "metadata": {},
   "outputs": [],
   "source": []
  }
 ],
 "metadata": {
  "interpreter": {
   "hash": "cf98052d8b812262878abf8fc201667b868fbe782462a1888ad2e7bbb9fb1a65"
  },
  "kernelspec": {
   "display_name": "Python 3.8.7 64-bit",
   "language": "python",
   "name": "python3"
  },
  "language_info": {
   "codemirror_mode": {
    "name": "ipython",
    "version": 3
   },
   "file_extension": ".py",
   "mimetype": "text/x-python",
   "name": "python",
   "nbconvert_exporter": "python",
   "pygments_lexer": "ipython3",
   "version": "3.8.7"
  },
  "orig_nbformat": 4
 },
 "nbformat": 4,
 "nbformat_minor": 2
}
