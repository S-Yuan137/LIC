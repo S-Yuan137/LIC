{
 "cells": [
  {
   "cell_type": "markdown",
   "metadata": {},
   "source": [
    "# comfirm interpolation\n",
    "### 3D scalar in taichi"
   ]
  },
  {
   "cell_type": "code",
   "execution_count": 10,
   "metadata": {},
   "outputs": [
    {
     "name": "stdout",
     "output_type": "stream",
     "text": [
      "[Taichi] Starting on arch=x64\n"
     ]
    },
    {
     "data": {
      "text/plain": [
       "0.41029143957122105"
      ]
     },
     "execution_count": 10,
     "metadata": {},
     "output_type": "execute_result"
    }
   ],
   "source": [
    "import numpy as np\n",
    "import taichi as ti\n",
    "import taichi_glsl as ts\n",
    "ti.init(arch = ti.cpu)\n",
    "\n",
    "shape = (5, 5, 6)\n",
    "field =  ti.field(ti.f64, shape = shape)\n",
    "np.random.seed(3)\n",
    "self = np.random.rand(shape[0], shape[1], shape[2])\n",
    "field.from_numpy(self)\n",
    "P = ti.Vector([1,1.5,2.005])\n",
    "\n",
    "\n",
    "\n",
    "@ti.func\n",
    "def trilerp(field: ti.template(), P):\n",
    "    '''\n",
    "    Tilinear sampling an 3D field with a real index.\n",
    "    :parameter field: (3D Tensor)\n",
    "        Specify the field to sample.\n",
    "    :parameter P: (3D Vector of float)\n",
    "        Specify the index in field.\n",
    "    :note:\n",
    "        If one of the element to be accessed is out of `field.shape`, then\n",
    "        `Tilerp` will automatically do a clamp for you, see :func:`sample`.\n",
    "        Syntax ref : https://en.wikipedia.org/wiki/Trilinear_interpolation.\n",
    "    :return:\n",
    "        The return value is calcuated as::\n",
    "            I = int(P)\n",
    "            w0 = ts.fract(P)\n",
    "            w1 = 1.0 - w0\n",
    "            c00 = ts.sample(field, I + ts.D.yyy) * w1.x + ts.sample(field, I + ts.D.xyy) * w0.x\n",
    "            c01 = ts.sample(field, I + ts.D.yyx) * w1.x + ts.sample(field, I + ts.D.xyx) * w0.x\n",
    "            c10 = ts.sample(field, I + ts.D.yxy) * w1.x + ts.sample(field, I + ts.D.xxy) * w0.x\n",
    "            c11 = ts.sample(field, I + ts.D.yxx) * w1.x + ts.sample(field, I + ts.D.xxx) * w0.x\n",
    "            c0 = c00 * w1.y + c10 * w0.y\n",
    "            c1 = c01 * w1.y + c11 * w0.y\n",
    "            return c0 * w1.z + c1 * w0.z\n",
    "        .. where D = vec(1, 0, -1)\n",
    "    '''\n",
    "    I = int(P)\n",
    "    w0 = ts.fract(P)\n",
    "    w1 = 1.0 - w0\n",
    "\n",
    "    c00 = ts.sample(field, I + ts.D.yyy) * w1.x + ts.sample(\n",
    "        field, I + ts.D.xyy) * w0.x\n",
    "    c01 = ts.sample(field, I + ts.D.yyx) * w1.x + ts.sample(\n",
    "        field, I + ts.D.xyx) * w0.x\n",
    "    c10 = ts.sample(field, I + ts.D.yxy) * w1.x + ts.sample(\n",
    "        field, I + ts.D.xxy) * w0.x\n",
    "    c11 = ts.sample(field, I + ts.D.yxx) * w1.x + ts.sample(\n",
    "        field, I + ts.D.xxx) * w0.x\n",
    "\n",
    "    c0 = c00 * w1.y + c10 * w0.y\n",
    "    c1 = c01 * w1.y + c11 * w0.y\n",
    "\n",
    "    return c0 * w1.z + c1 * w0.z\n",
    "\n",
    "\n",
    "@ti.kernel\n",
    "def main() -> ti.f64:\n",
    "    # x =  ts.sampling.sample(field, P)\n",
    "    x = trilerp(field, P)\n",
    "\n",
    "    return x\n",
    "# val = main()\n",
    "# print(val)\n",
    "main()"
   ]
  },
  {
   "cell_type": "markdown",
   "metadata": {},
   "source": [
    "### in numpy"
   ]
  },
  {
   "cell_type": "code",
   "execution_count": 1,
   "metadata": {},
   "outputs": [
    {
     "name": "stdout",
     "output_type": "stream",
     "text": [
      "0.40962558119277803\n"
     ]
    }
   ],
   "source": [
    "import numpy as np\n",
    "from scipy.interpolate import interpn\n",
    "\n",
    "def field_point(self, coord): # It is normalized. To get original field: u.field_point()*u.magitude_point()\n",
    "    points = (np.linspace(0,self.shape[0]-1,self.shape[0]), \n",
    "              np.linspace(0,self.shape[1]-1,self.shape[1]),\n",
    "              np.linspace(0,self.shape[2]-1,self.shape[2])\n",
    "            )\n",
    "    fx = interpn(points, self, coord)[0]\n",
    "    # fy = interpn(points, self.field_y, coord)[0]\n",
    "    # fz = interpn(points, self.field_z, coord)[0]\n",
    "    # return np.array([fx, fy, fz])\n",
    "    return fx\n",
    "\n",
    "shape = (5, 5, 6)\n",
    "np.random.seed(3)\n",
    "self = np.random.rand(shape[0], shape[1], shape[2])\n",
    "print(field_point(self, (1, 1.5,2)))\n",
    "# print(self[1,1,1])"
   ]
  },
  {
   "cell_type": "markdown",
   "metadata": {},
   "source": [
    "## 3D vector comfirmation"
   ]
  },
  {
   "cell_type": "markdown",
   "metadata": {},
   "source": [
    "Since taichi doesn't support to return a list or tuple, I can't return a struct data. The main idea should be ***update*** an initialized output textures. "
   ]
  },
  {
   "cell_type": "code",
   "execution_count": 3,
   "metadata": {},
   "outputs": [
    {
     "name": "stdout",
     "output_type": "stream",
     "text": [
      "[Taichi] Starting on arch=x64\n",
      "(5, 5, 6, 3)\n",
      "0.40962558119277803\n"
     ]
    }
   ],
   "source": [
    "import taichi as ti\n",
    "import taichi_glsl as ts\n",
    "import numpy as np\n",
    "ti.init(arch = ti.cpu)\n",
    "\n",
    "shape = (5, 5, 6)\n",
    "field =  ti.Vector.field(n = 3, dtype = ti.f64, shape = shape)\n",
    "np.random.seed(3)\n",
    "self = np.random.rand(shape[0], shape[1], shape[2])\n",
    "temp = np.stack((self, self, self), axis = -1)\n",
    "print(temp.shape)\n",
    "field.from_numpy(temp)\n",
    "P = ti.Vector([1,1.5,2])\n",
    "\n",
    "\n",
    "\n",
    "@ti.func\n",
    "def trilerp(field: ti.template(), P):\n",
    "    I = int(P)\n",
    "    w0 = ts.fract(P)\n",
    "    w1 = 1.0 - w0\n",
    "\n",
    "    c00 = ts.sample(field, I + ts.D.yyy) * w1.x + ts.sample(\n",
    "        field, I + ts.D.xyy) * w0.x\n",
    "    c01 = ts.sample(field, I + ts.D.yyx) * w1.x + ts.sample(\n",
    "        field, I + ts.D.xyx) * w0.x\n",
    "    c10 = ts.sample(field, I + ts.D.yxy) * w1.x + ts.sample(\n",
    "        field, I + ts.D.xxy) * w0.x\n",
    "    c11 = ts.sample(field, I + ts.D.yxx) * w1.x + ts.sample(\n",
    "        field, I + ts.D.xxx) * w0.x\n",
    "\n",
    "    c0 = c00 * w1.y + c10 * w0.y\n",
    "    c1 = c01 * w1.y + c11 * w0.y\n",
    "\n",
    "    return c0 * w1.z + c1 * w0.z\n",
    "\n",
    "\n",
    "@ti.kernel\n",
    "def main() -> ti.f64:\n",
    "    # x =  ts.sampling.sample(field, P)\n",
    "    x = trilerp(field, P)\n",
    "    # return x # is not supported in taichi currently\n",
    "    return x[1]\n",
    "val = main()\n",
    "print(val)\n",
    "# main()"
   ]
  },
  {
   "cell_type": "code",
   "execution_count": null,
   "metadata": {},
   "outputs": [],
   "source": [
    "# from extrnal array\n",
    "\n",
    "import taichi as ti\n",
    "import numpy as np\n",
    "\n",
    "ti.init()\n",
    "\n",
    "n = 4\n",
    "m = 7\n",
    "\n",
    "val = ti.field(ti.i32, shape=(n, m))\n",
    "\n",
    "@ti.kernel\n",
    "def test_numpy(arr: ti.ext_arr()):\n",
    "  for i in range(n):\n",
    "    for j in range(m):\n",
    "      arr[i, j] += i + j\n",
    "\n",
    "a = np.empty(shape=(n, m), dtype=np.int32)\n",
    "\n",
    "for i in range(n):\n",
    "  for j in range(m):\n",
    "    a[i, j] = i * j\n",
    "\n",
    "test_numpy(a)\n",
    "\n",
    "for i in range(n):\n",
    "  for j in range(m):\n",
    "    assert a[i, j] == i * j + i + j"
   ]
  },
  {
   "cell_type": "code",
   "execution_count": 6,
   "metadata": {},
   "outputs": [
    {
     "name": "stdout",
     "output_type": "stream",
     "text": [
      "[Taichi] Starting on arch=cuda\n"
     ]
    },
    {
     "ename": "TypeError",
     "evalue": "'list' object cannot be interpreted as an integer",
     "output_type": "error",
     "traceback": [
      "\u001b[1;31m---------------------------------------------------------------------------\u001b[0m",
      "\u001b[1;31mTypeError\u001b[0m                                 Traceback (most recent call last)",
      "\u001b[1;32m~\\AppData\\Local\\Temp/ipykernel_12004/4166245905.py\u001b[0m in \u001b[0;36m<module>\u001b[1;34m\u001b[0m\n\u001b[0;32m     10\u001b[0m     \u001b[1;32mreturn\u001b[0m \u001b[0mti\u001b[0m\u001b[1;33m.\u001b[0m\u001b[0msqrt\u001b[0m\u001b[1;33m(\u001b[0m\u001b[0md\u001b[0m\u001b[1;33m)\u001b[0m\u001b[1;33m\u001b[0m\u001b[1;33m\u001b[0m\u001b[0m\n\u001b[0;32m     11\u001b[0m \u001b[1;33m\u001b[0m\u001b[0m\n\u001b[1;32m---> 12\u001b[1;33m \u001b[0mp1\u001b[0m \u001b[1;33m=\u001b[0m \u001b[0mti\u001b[0m\u001b[1;33m.\u001b[0m\u001b[0mVector\u001b[0m\u001b[1;33m.\u001b[0m\u001b[0mfield\u001b[0m\u001b[1;33m(\u001b[0m\u001b[1;33m[\u001b[0m\u001b[1;36m1\u001b[0m\u001b[1;33m,\u001b[0m\u001b[1;36m2\u001b[0m\u001b[1;33m,\u001b[0m\u001b[1;36m4\u001b[0m\u001b[1;33m]\u001b[0m\u001b[1;33m,\u001b[0m \u001b[0mdtype\u001b[0m \u001b[1;33m=\u001b[0m \u001b[0mti\u001b[0m\u001b[1;33m.\u001b[0m\u001b[0mf32\u001b[0m\u001b[1;33m)\u001b[0m\u001b[1;33m\u001b[0m\u001b[1;33m\u001b[0m\u001b[0m\n\u001b[0m\u001b[0;32m     13\u001b[0m \u001b[0mp2\u001b[0m \u001b[1;33m=\u001b[0m \u001b[0mti\u001b[0m\u001b[1;33m.\u001b[0m\u001b[0mVector\u001b[0m\u001b[1;33m.\u001b[0m\u001b[0mfield\u001b[0m\u001b[1;33m(\u001b[0m\u001b[1;33m[\u001b[0m\u001b[1;36m5\u001b[0m\u001b[1;33m,\u001b[0m \u001b[1;36m6\u001b[0m \u001b[1;33m,\u001b[0m\u001b[1;36m1\u001b[0m\u001b[1;33m]\u001b[0m\u001b[1;33m,\u001b[0m \u001b[0mdtype\u001b[0m \u001b[1;33m=\u001b[0m \u001b[0mti\u001b[0m\u001b[1;33m.\u001b[0m\u001b[0mf32\u001b[0m\u001b[1;33m)\u001b[0m\u001b[1;33m\u001b[0m\u001b[1;33m\u001b[0m\u001b[0m\n\u001b[0;32m     14\u001b[0m \u001b[1;33m\u001b[0m\u001b[0m\n",
      "\u001b[1;32m~\\AppData\\Local\\Programs\\Python\\Python38\\lib\\site-packages\\taichi\\lang\\matrix.py\u001b[0m in \u001b[0;36m_Vector_field\u001b[1;34m(cls, n, dtype, *args, **kwargs)\u001b[0m\n\u001b[0;32m    996\u001b[0m         \u001b[1;34m\"\"\"ti.Vector.field\"\"\"\u001b[0m\u001b[1;33m\u001b[0m\u001b[1;33m\u001b[0m\u001b[0m\n\u001b[0;32m    997\u001b[0m         \u001b[0m_taichi_skip_traceback\u001b[0m \u001b[1;33m=\u001b[0m \u001b[1;36m1\u001b[0m\u001b[1;33m\u001b[0m\u001b[1;33m\u001b[0m\u001b[0m\n\u001b[1;32m--> 998\u001b[1;33m         \u001b[1;32mreturn\u001b[0m \u001b[0mcls\u001b[0m\u001b[1;33m.\u001b[0m\u001b[0mfield\u001b[0m\u001b[1;33m(\u001b[0m\u001b[0mn\u001b[0m\u001b[1;33m,\u001b[0m \u001b[1;36m1\u001b[0m\u001b[1;33m,\u001b[0m \u001b[0mdtype\u001b[0m\u001b[1;33m,\u001b[0m \u001b[1;33m*\u001b[0m\u001b[0margs\u001b[0m\u001b[1;33m,\u001b[0m \u001b[1;33m**\u001b[0m\u001b[0mkwargs\u001b[0m\u001b[1;33m)\u001b[0m\u001b[1;33m\u001b[0m\u001b[1;33m\u001b[0m\u001b[0m\n\u001b[0m\u001b[0;32m    999\u001b[0m \u001b[1;33m\u001b[0m\u001b[0m\n\u001b[0;32m   1000\u001b[0m     \u001b[1;33m@\u001b[0m\u001b[0mclassmethod\u001b[0m\u001b[1;33m\u001b[0m\u001b[1;33m\u001b[0m\u001b[0m\n",
      "\u001b[1;32m~\\AppData\\Local\\Programs\\Python\\Python38\\lib\\site-packages\\taichi\\lang\\util.py\u001b[0m in \u001b[0;36mwrapped\u001b[1;34m(*args, **kwargs)\u001b[0m\n\u001b[0;32m    226\u001b[0m         \u001b[1;32massert\u001b[0m \u001b[0min_python_scope\u001b[0m\u001b[1;33m(\u001b[0m\u001b[1;33m)\u001b[0m\u001b[1;33m,\u001b[0m\u001b[0;31m \u001b[0m\u001b[0;31m\\\u001b[0m\u001b[1;33m\u001b[0m\u001b[1;33m\u001b[0m\u001b[0m\n\u001b[0;32m    227\u001b[0m                 \u001b[1;34mf'{func.__name__} cannot be called in Taichi-scope'\u001b[0m\u001b[1;33m\u001b[0m\u001b[1;33m\u001b[0m\u001b[0m\n\u001b[1;32m--> 228\u001b[1;33m         \u001b[1;32mreturn\u001b[0m \u001b[0mfunc\u001b[0m\u001b[1;33m(\u001b[0m\u001b[1;33m*\u001b[0m\u001b[0margs\u001b[0m\u001b[1;33m,\u001b[0m \u001b[1;33m**\u001b[0m\u001b[0mkwargs\u001b[0m\u001b[1;33m)\u001b[0m\u001b[1;33m\u001b[0m\u001b[1;33m\u001b[0m\u001b[0m\n\u001b[0m\u001b[0;32m    229\u001b[0m \u001b[1;33m\u001b[0m\u001b[0m\n\u001b[0;32m    230\u001b[0m     \u001b[1;32mreturn\u001b[0m \u001b[0mwrapped\u001b[0m\u001b[1;33m\u001b[0m\u001b[1;33m\u001b[0m\u001b[0m\n",
      "\u001b[1;32m~\\AppData\\Local\\Programs\\Python\\Python38\\lib\\site-packages\\taichi\\lang\\matrix.py\u001b[0m in \u001b[0;36mfield\u001b[1;34m(cls, n, m, dtype, shape, name, offset, needs_grad, layout)\u001b[0m\n\u001b[0;32m    945\u001b[0m                             impl.create_field_member(dtype[i][j], name=name))\n\u001b[0;32m    946\u001b[0m         \u001b[1;32melse\u001b[0m\u001b[1;33m:\u001b[0m\u001b[1;33m\u001b[0m\u001b[1;33m\u001b[0m\u001b[0m\n\u001b[1;32m--> 947\u001b[1;33m             \u001b[1;32mfor\u001b[0m \u001b[0m_\u001b[0m \u001b[1;32min\u001b[0m \u001b[0mrange\u001b[0m\u001b[1;33m(\u001b[0m\u001b[0mn\u001b[0m \u001b[1;33m*\u001b[0m \u001b[0mm\u001b[0m\u001b[1;33m)\u001b[0m\u001b[1;33m:\u001b[0m\u001b[1;33m\u001b[0m\u001b[1;33m\u001b[0m\u001b[0m\n\u001b[0m\u001b[0;32m    948\u001b[0m                 \u001b[0mentries\u001b[0m\u001b[1;33m.\u001b[0m\u001b[0mappend\u001b[0m\u001b[1;33m(\u001b[0m\u001b[0mimpl\u001b[0m\u001b[1;33m.\u001b[0m\u001b[0mcreate_field_member\u001b[0m\u001b[1;33m(\u001b[0m\u001b[0mdtype\u001b[0m\u001b[1;33m,\u001b[0m \u001b[0mname\u001b[0m\u001b[1;33m=\u001b[0m\u001b[0mname\u001b[0m\u001b[1;33m)\u001b[0m\u001b[1;33m)\u001b[0m\u001b[1;33m\u001b[0m\u001b[1;33m\u001b[0m\u001b[0m\n\u001b[0;32m    949\u001b[0m         \u001b[0mentries\u001b[0m\u001b[1;33m,\u001b[0m \u001b[0mentries_grad\u001b[0m \u001b[1;33m=\u001b[0m \u001b[0mzip\u001b[0m\u001b[1;33m(\u001b[0m\u001b[1;33m*\u001b[0m\u001b[0mentries\u001b[0m\u001b[1;33m)\u001b[0m\u001b[1;33m\u001b[0m\u001b[1;33m\u001b[0m\u001b[0m\n",
      "\u001b[1;31mTypeError\u001b[0m: 'list' object cannot be interpreted as an integer"
     ]
    }
   ],
   "source": [
    "\n"
   ]
  },
  {
   "cell_type": "code",
   "execution_count": 30,
   "metadata": {},
   "outputs": [
    {
     "name": "stdout",
     "output_type": "stream",
     "text": [
      "[[ 0  1  2  3  4]\n",
      " [ 5  6  7  8  9]\n",
      " [10 11 12 13 14]\n",
      " [15 16 17 18 19]\n",
      " [20 21 22 23 24]]\n"
     ]
    },
    {
     "data": {
      "text/plain": [
       "array([[ 0. ,  0.5,  1. ,  1.5,  2. ,  2.5,  3. ,  3.5,  4. ,  4. ],\n",
       "       [ 2.5,  3. ,  3.5,  4. ,  4.5,  5. ,  5.5,  6. ,  6.5,  6.5],\n",
       "       [ 5. ,  5.5,  6. ,  6.5,  7. ,  7.5,  8. ,  8.5,  9. ,  9. ],\n",
       "       [ 7.5,  8. ,  8.5,  9. ,  9.5, 10. , 10.5, 11. , 11.5, 11.5],\n",
       "       [10. , 10.5, 11. , 11.5, 12. , 12.5, 13. , 13.5, 14. , 14. ],\n",
       "       [12.5, 13. , 13.5, 14. , 14.5, 15. , 15.5, 16. , 16.5, 16.5],\n",
       "       [15. , 15.5, 16. , 16.5, 17. , 17.5, 18. , 18.5, 19. , 19. ],\n",
       "       [17.5, 18. , 18.5, 19. , 19.5, 20. , 20.5, 21. , 21.5, 21.5],\n",
       "       [20. , 20.5, 21. , 21.5, 22. , 22.5, 23. , 23.5, 24. , 24. ],\n",
       "       [20. , 20.5, 21. , 21.5, 22. , 22.5, 23. , 23.5, 24. , 24. ]])"
      ]
     },
     "execution_count": 30,
     "metadata": {},
     "output_type": "execute_result"
    }
   ],
   "source": [
    "from scipy import interpolate\n",
    "from scipy.ndimage import map_coordinates\n",
    "\n",
    "z = np.arange(25).reshape(5, 5)\n",
    "print(z)\n",
    "f = interpolate.interp2d(np.arange(0,50,10), np.arange(0,50,10), z)\n",
    "f(np.arange(0,50,5), np.arange(0,50,5))"
   ]
  },
  {
   "cell_type": "code",
   "execution_count": 61,
   "metadata": {},
   "outputs": [
    {
     "name": "stdout",
     "output_type": "stream",
     "text": [
      "[[0 1 2 3 4]\n",
      " [5 6 7 8 9]]\n"
     ]
    },
    {
     "data": {
      "text/plain": [
       "array([[0.        , 0.55555556, 1.11111111, 1.66666667, 2.22222222,\n",
       "        2.77777778, 3.33333333, 3.88888889, 4.        , 4.        ],\n",
       "       [3.33333333, 3.88888889, 4.44444444, 5.        , 5.55555556,\n",
       "        6.11111111, 6.66666667, 7.22222222, 7.33333333, 7.33333333],\n",
       "       [5.        , 5.55555556, 6.11111111, 6.66666667, 7.22222222,\n",
       "        7.77777778, 8.33333333, 8.88888889, 9.        , 9.        ],\n",
       "       [5.        , 5.55555556, 6.11111111, 6.66666667, 7.22222222,\n",
       "        7.77777778, 8.33333333, 8.88888889, 9.        , 9.        ]])"
      ]
     },
     "execution_count": 61,
     "metadata": {},
     "output_type": "execute_result"
    }
   ],
   "source": [
    "temp = np.arange(10).reshape(2,5)\n",
    "def bilinear_interpolation(data_in, resample_factor):\n",
    "        from scipy import interpolate\n",
    "        x_grid = np.linspace(0, data_in.shape[1]-1, data_in.shape[1])\n",
    "        y_grid = np.linspace(0, data_in.shape[0]-1, data_in.shape[0])\n",
    "        f = interpolate.interp2d(x_grid, y_grid, data_in, kind='linear')\n",
    "        return f(np.linspace(0, data_in.shape[1], data_in.shape[1] * resample_factor), \n",
    "                    np.linspace(0, data_in.shape[0], data_in.shape[0] * resample_factor))\n",
    "        \n",
    "        \n",
    "print(temp)\n",
    "bilinear_interpolation(temp, 2)"
   ]
  },
  {
   "cell_type": "code",
   "execution_count": 1,
   "metadata": {},
   "outputs": [
    {
     "name": "stdout",
     "output_type": "stream",
     "text": [
      "Processing frame: image_00000.png\n",
      "Processing frame: image_00001.png\n",
      "Processing frame: image_00002.png\n",
      "Processing frame: image_00003.png\n",
      "Processing frame: image_00004.png\n",
      "Processing frame: image_00005.png\n",
      "Processing frame: image_00006.png\n",
      "Processing frame: image_00007.png\n",
      "Processing frame: image_00008.png\n",
      "Processing frame: image_00009.png\n",
      "Processing frame: image_00010.png\n",
      "Processing frame: image_00011.png\n",
      "Processing frame: image_00012.png\n",
      "Processing frame: image_00013.png\n",
      "Processing frame: image_00014.png\n",
      "Processing frame: image_00015.png\n",
      "Processing frame: image_00016.png\n",
      "Processing frame: image_00017.png\n",
      "Processing frame: image_00018.png\n",
      "Processing frame: image_00019.png\n",
      "Processing frame: image_00020.png\n",
      "Processing frame: image_00021.png\n",
      "Processing frame: image_00022.png\n",
      "Processing frame: image_00023.png\n",
      "Processing frame: image_00024.png\n",
      "Processing frame: image_00025.png\n",
      "Processing frame: image_00026.png\n",
      "Processing frame: image_00027.png\n",
      "Processing frame: image_00028.png\n",
      "Processing frame: image_00029.png\n",
      "Processing frame: image_00030.png\n",
      "Processing frame: image_00031.png\n",
      "Processing frame: image_00032.png\n",
      "Processing frame: image_00033.png\n",
      "Processing frame: image_00034.png\n",
      "Processing frame: image_00035.png\n",
      "Processing frame: image_00036.png\n",
      "Processing frame: image_00037.png\n",
      "Processing frame: image_00038.png\n",
      "Processing frame: image_00039.png\n",
      "Processing frame: image_00040.png\n",
      "Processing frame: image_00041.png\n",
      "Processing frame: image_00042.png\n",
      "Processing frame: image_00043.png\n",
      "Processing frame: image_00044.png\n",
      "Processing frame: image_00045.png\n",
      "Processing frame: image_00046.png\n",
      "Processing frame: image_00047.png\n",
      "Processing frame: image_00048.png\n",
      "Processing frame: image_00049.png\n",
      "Processing frame: image_00050.png\n",
      "Processing frame: image_00051.png\n",
      "Processing frame: image_00052.png\n",
      "Processing frame: image_00053.png\n",
      "Processing frame: image_00054.png\n",
      "Processing frame: image_00055.png\n",
      "Processing frame: image_00056.png\n",
      "Processing frame: image_00057.png\n",
      "Processing frame: image_00058.png\n",
      "Processing frame: image_00059.png\n",
      "Processing frame: image_00060.png\n",
      "Processing frame: image_00061.png\n",
      "Processing frame: image_00062.png\n",
      "Processing frame: image_00063.png\n",
      "Processing frame: image_00064.png\n",
      "Processing frame: image_00065.png\n",
      "Processing frame: image_00066.png\n",
      "Processing frame: image_00067.png\n",
      "Processing frame: image_00068.png\n",
      "Processing frame: image_00069.png\n",
      "Processing frame: image_00070.png\n",
      "Processing frame: image_00071.png\n",
      "Processing frame: image_00072.png\n",
      "Processing frame: image_00073.png\n",
      "Processing frame: image_00074.png\n",
      "Processing frame: image_00075.png\n",
      "Processing frame: image_00076.png\n",
      "Processing frame: image_00077.png\n",
      "Processing frame: image_00078.png\n",
      "Processing frame: image_00079.png\n",
      "Processing frame: image_00080.png\n",
      "Processing frame: image_00081.png\n",
      "Processing frame: image_00082.png\n",
      "Processing frame: image_00083.png\n",
      "Processing frame: image_00084.png\n",
      "Processing frame: image_00085.png\n",
      "Processing frame: image_00086.png\n",
      "Processing frame: image_00087.png\n",
      "Processing frame: image_00088.png\n",
      "Processing frame: image_00089.png\n",
      "Processing frame: image_00090.png\n",
      "Processing frame: image_00091.png\n",
      "Processing frame: image_00092.png\n",
      "Processing frame: image_00093.png\n",
      "Processing frame: image_00094.png\n",
      "Processing frame: image_00095.png\n",
      "Processing frame: image_00096.png\n",
      "Processing frame: image_00097.png\n",
      "Processing frame: image_00098.png\n",
      "Processing frame: image_00099.png\n"
     ]
    }
   ],
   "source": [
    "# generate video from pngs\n",
    "import cv2\n",
    "import numpy as np\n",
    "import os\n",
    "\n",
    "\n",
    "def generate_video(image_folder, video_name, fps=30):\n",
    "    images = [img for img in os.listdir(image_folder) if img.endswith(\".png\")]\n",
    "    frame = cv2.imread(os.path.join(image_folder, images[0]))\n",
    "    height, width, layers = frame.shape\n",
    "\n",
    "    video = cv2.VideoWriter(video_name, 0, fps, (width,height))\n",
    "\n",
    "    for image in images:\n",
    "        # print(\"Processing frame: \" + image)\n",
    "        video.write(cv2.imread(os.path.join(image_folder, image)))\n",
    "\n",
    "    cv2.destroyAllWindows()\n",
    "    video.release()\n",
    "\n",
    "generate_video('D:/CUHK/SbCodes/LIC/animated_lic/images/', 'test.mp4')"
   ]
  },
  {
   "cell_type": "code",
   "execution_count": null,
   "metadata": {},
   "outputs": [],
   "source": []
  }
 ],
 "metadata": {
  "interpreter": {
   "hash": "cf98052d8b812262878abf8fc201667b868fbe782462a1888ad2e7bbb9fb1a65"
  },
  "kernelspec": {
   "display_name": "Python 3.8.7 64-bit",
   "language": "python",
   "name": "python3"
  },
  "language_info": {
   "codemirror_mode": {
    "name": "ipython",
    "version": 3
   },
   "file_extension": ".py",
   "mimetype": "text/x-python",
   "name": "python",
   "nbconvert_exporter": "python",
   "pygments_lexer": "ipython3",
   "version": "3.8.7"
  },
  "orig_nbformat": 4
 },
 "nbformat": 4,
 "nbformat_minor": 2
}
